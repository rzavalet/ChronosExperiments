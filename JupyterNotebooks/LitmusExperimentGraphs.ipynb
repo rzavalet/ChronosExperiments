{
 "cells": [
  {
   "cell_type": "code",
   "execution_count": 58,
   "metadata": {},
   "outputs": [],
   "source": [
    "import numpy as np\n",
    "import scipy.stats\n",
    "import pandas as pd\n",
    "\n",
    "import matplotlib\n",
    "import matplotlib.pyplot as pp\n",
    "\n",
    "from IPython import display\n",
    "from ipywidgets import interact, widgets\n",
    "\n",
    "%matplotlib inline\n"
   ]
  },
  {
   "cell_type": "code",
   "execution_count": 59,
   "metadata": {},
   "outputs": [],
   "source": [
    "stats_file_name = 'Litmus.csv'"
   ]
  },
  {
   "cell_type": "code",
   "execution_count": 60,
   "metadata": {},
   "outputs": [],
   "source": [
    "stats = pd.read_csv(stats_file_name)"
   ]
  },
  {
   "cell_type": "code",
   "execution_count": 61,
   "metadata": {},
   "outputs": [],
   "source": [
    "stats['sample'] = range(stats['Job'].size)\n",
    "stats['sample'] = stats['sample'] + 1\n",
    "stats = stats[1:]"
   ]
  },
  {
   "cell_type": "code",
   "execution_count": 62,
   "metadata": {},
   "outputs": [],
   "source": [
    "stats['Response'] /= 1000"
   ]
  },
  {
   "cell_type": "code",
   "execution_count": 63,
   "metadata": {},
   "outputs": [
    {
     "data": {
      "text/html": [
       "<div>\n",
       "<style scoped>\n",
       "    .dataframe tbody tr th:only-of-type {\n",
       "        vertical-align: middle;\n",
       "    }\n",
       "\n",
       "    .dataframe tbody tr th {\n",
       "        vertical-align: top;\n",
       "    }\n",
       "\n",
       "    .dataframe thead th {\n",
       "        text-align: right;\n",
       "    }\n",
       "</style>\n",
       "<table border=\"1\" class=\"dataframe\">\n",
       "  <thead>\n",
       "    <tr style=\"text-align: right;\">\n",
       "      <th></th>\n",
       "      <th># Task</th>\n",
       "      <th>Job</th>\n",
       "      <th>Period</th>\n",
       "      <th>Response</th>\n",
       "      <th>DL Miss?</th>\n",
       "      <th>Lateness</th>\n",
       "      <th>Tardiness</th>\n",
       "      <th>Forced?</th>\n",
       "      <th>ACET</th>\n",
       "      <th>Preemptions</th>\n",
       "      <th>Migrations</th>\n",
       "      <th>sample</th>\n",
       "    </tr>\n",
       "  </thead>\n",
       "  <tbody>\n",
       "    <tr>\n",
       "      <th>count</th>\n",
       "      <td>1966.0</td>\n",
       "      <td>1966.000000</td>\n",
       "      <td>1966.0</td>\n",
       "      <td>1966.000000</td>\n",
       "      <td>1966.0</td>\n",
       "      <td>1.966000e+03</td>\n",
       "      <td>1966.0</td>\n",
       "      <td>1966.0</td>\n",
       "      <td>1.966000e+03</td>\n",
       "      <td>1966.000000</td>\n",
       "      <td>1966.0</td>\n",
       "      <td>1966.000000</td>\n",
       "    </tr>\n",
       "    <tr>\n",
       "      <th>mean</th>\n",
       "      <td>10627.0</td>\n",
       "      <td>984.500000</td>\n",
       "      <td>50000000.0</td>\n",
       "      <td>2369.856284</td>\n",
       "      <td>0.0</td>\n",
       "      <td>-1.763014e+07</td>\n",
       "      <td>0.0</td>\n",
       "      <td>0.0</td>\n",
       "      <td>2.325422e+06</td>\n",
       "      <td>0.596643</td>\n",
       "      <td>0.0</td>\n",
       "      <td>984.500000</td>\n",
       "    </tr>\n",
       "    <tr>\n",
       "      <th>std</th>\n",
       "      <td>0.0</td>\n",
       "      <td>567.679634</td>\n",
       "      <td>0.0</td>\n",
       "      <td>449.081618</td>\n",
       "      <td>0.0</td>\n",
       "      <td>4.490816e+05</td>\n",
       "      <td>0.0</td>\n",
       "      <td>0.0</td>\n",
       "      <td>3.769892e+05</td>\n",
       "      <td>0.559506</td>\n",
       "      <td>0.0</td>\n",
       "      <td>567.679634</td>\n",
       "    </tr>\n",
       "    <tr>\n",
       "      <th>min</th>\n",
       "      <td>10627.0</td>\n",
       "      <td>2.000000</td>\n",
       "      <td>50000000.0</td>\n",
       "      <td>80.428000</td>\n",
       "      <td>0.0</td>\n",
       "      <td>-1.991957e+07</td>\n",
       "      <td>0.0</td>\n",
       "      <td>0.0</td>\n",
       "      <td>0.000000e+00</td>\n",
       "      <td>0.000000</td>\n",
       "      <td>0.0</td>\n",
       "      <td>2.000000</td>\n",
       "    </tr>\n",
       "    <tr>\n",
       "      <th>25%</th>\n",
       "      <td>10627.0</td>\n",
       "      <td>493.250000</td>\n",
       "      <td>50000000.0</td>\n",
       "      <td>2055.178000</td>\n",
       "      <td>0.0</td>\n",
       "      <td>-1.794482e+07</td>\n",
       "      <td>0.0</td>\n",
       "      <td>0.0</td>\n",
       "      <td>2.016106e+06</td>\n",
       "      <td>0.000000</td>\n",
       "      <td>0.0</td>\n",
       "      <td>493.250000</td>\n",
       "    </tr>\n",
       "    <tr>\n",
       "      <th>50%</th>\n",
       "      <td>10627.0</td>\n",
       "      <td>984.500000</td>\n",
       "      <td>50000000.0</td>\n",
       "      <td>2153.514000</td>\n",
       "      <td>0.0</td>\n",
       "      <td>-1.784649e+07</td>\n",
       "      <td>0.0</td>\n",
       "      <td>0.0</td>\n",
       "      <td>2.102294e+06</td>\n",
       "      <td>1.000000</td>\n",
       "      <td>0.0</td>\n",
       "      <td>984.500000</td>\n",
       "    </tr>\n",
       "    <tr>\n",
       "      <th>75%</th>\n",
       "      <td>10627.0</td>\n",
       "      <td>1475.750000</td>\n",
       "      <td>50000000.0</td>\n",
       "      <td>2764.886750</td>\n",
       "      <td>0.0</td>\n",
       "      <td>-1.723511e+07</td>\n",
       "      <td>0.0</td>\n",
       "      <td>0.0</td>\n",
       "      <td>2.722432e+06</td>\n",
       "      <td>1.000000</td>\n",
       "      <td>0.0</td>\n",
       "      <td>1475.750000</td>\n",
       "    </tr>\n",
       "    <tr>\n",
       "      <th>max</th>\n",
       "      <td>10627.0</td>\n",
       "      <td>1967.000000</td>\n",
       "      <td>50000000.0</td>\n",
       "      <td>13415.700000</td>\n",
       "      <td>0.0</td>\n",
       "      <td>-6.584300e+06</td>\n",
       "      <td>0.0</td>\n",
       "      <td>0.0</td>\n",
       "      <td>3.076610e+06</td>\n",
       "      <td>5.000000</td>\n",
       "      <td>0.0</td>\n",
       "      <td>1967.000000</td>\n",
       "    </tr>\n",
       "  </tbody>\n",
       "</table>\n",
       "</div>"
      ],
      "text/plain": [
       "        # Task          Job      Period      Response  DL Miss?      Lateness  \\\n",
       "count   1966.0  1966.000000      1966.0   1966.000000    1966.0  1.966000e+03   \n",
       "mean   10627.0   984.500000  50000000.0   2369.856284       0.0 -1.763014e+07   \n",
       "std        0.0   567.679634         0.0    449.081618       0.0  4.490816e+05   \n",
       "min    10627.0     2.000000  50000000.0     80.428000       0.0 -1.991957e+07   \n",
       "25%    10627.0   493.250000  50000000.0   2055.178000       0.0 -1.794482e+07   \n",
       "50%    10627.0   984.500000  50000000.0   2153.514000       0.0 -1.784649e+07   \n",
       "75%    10627.0  1475.750000  50000000.0   2764.886750       0.0 -1.723511e+07   \n",
       "max    10627.0  1967.000000  50000000.0  13415.700000       0.0 -6.584300e+06   \n",
       "\n",
       "       Tardiness  Forced?          ACET  Preemptions  Migrations       sample  \n",
       "count     1966.0   1966.0  1.966000e+03  1966.000000      1966.0  1966.000000  \n",
       "mean         0.0      0.0  2.325422e+06     0.596643         0.0   984.500000  \n",
       "std          0.0      0.0  3.769892e+05     0.559506         0.0   567.679634  \n",
       "min          0.0      0.0  0.000000e+00     0.000000         0.0     2.000000  \n",
       "25%          0.0      0.0  2.016106e+06     0.000000         0.0   493.250000  \n",
       "50%          0.0      0.0  2.102294e+06     1.000000         0.0   984.500000  \n",
       "75%          0.0      0.0  2.722432e+06     1.000000         0.0  1475.750000  \n",
       "max          0.0      0.0  3.076610e+06     5.000000         0.0  1967.000000  "
      ]
     },
     "execution_count": 63,
     "metadata": {},
     "output_type": "execute_result"
    }
   ],
   "source": [
    "stats.describe()"
   ]
  },
  {
   "cell_type": "code",
   "execution_count": 64,
   "metadata": {},
   "outputs": [
    {
     "data": {
      "text/html": [
       "<div>\n",
       "<style scoped>\n",
       "    .dataframe tbody tr th:only-of-type {\n",
       "        vertical-align: middle;\n",
       "    }\n",
       "\n",
       "    .dataframe tbody tr th {\n",
       "        vertical-align: top;\n",
       "    }\n",
       "\n",
       "    .dataframe thead th {\n",
       "        text-align: right;\n",
       "    }\n",
       "</style>\n",
       "<table border=\"1\" class=\"dataframe\">\n",
       "  <thead>\n",
       "    <tr style=\"text-align: right;\">\n",
       "      <th></th>\n",
       "      <th># Task</th>\n",
       "      <th>Job</th>\n",
       "      <th>Period</th>\n",
       "      <th>Response</th>\n",
       "      <th>DL Miss?</th>\n",
       "      <th>Lateness</th>\n",
       "      <th>Tardiness</th>\n",
       "      <th>Forced?</th>\n",
       "      <th>ACET</th>\n",
       "      <th>Preemptions</th>\n",
       "      <th>Migrations</th>\n",
       "      <th>sample</th>\n",
       "    </tr>\n",
       "  </thead>\n",
       "  <tbody>\n",
       "    <tr>\n",
       "      <th>1</th>\n",
       "      <td>10627</td>\n",
       "      <td>2</td>\n",
       "      <td>50000000</td>\n",
       "      <td>13415.700</td>\n",
       "      <td>0</td>\n",
       "      <td>-6584300</td>\n",
       "      <td>0</td>\n",
       "      <td>0</td>\n",
       "      <td>0</td>\n",
       "      <td>0</td>\n",
       "      <td>0</td>\n",
       "      <td>2</td>\n",
       "    </tr>\n",
       "    <tr>\n",
       "      <th>2</th>\n",
       "      <td>10627</td>\n",
       "      <td>3</td>\n",
       "      <td>50000000</td>\n",
       "      <td>80.428</td>\n",
       "      <td>0</td>\n",
       "      <td>-19919572</td>\n",
       "      <td>0</td>\n",
       "      <td>0</td>\n",
       "      <td>64210</td>\n",
       "      <td>0</td>\n",
       "      <td>0</td>\n",
       "      <td>3</td>\n",
       "    </tr>\n",
       "    <tr>\n",
       "      <th>3</th>\n",
       "      <td>10627</td>\n",
       "      <td>4</td>\n",
       "      <td>50000000</td>\n",
       "      <td>2946.865</td>\n",
       "      <td>0</td>\n",
       "      <td>-17053135</td>\n",
       "      <td>0</td>\n",
       "      <td>0</td>\n",
       "      <td>2926847</td>\n",
       "      <td>0</td>\n",
       "      <td>0</td>\n",
       "      <td>4</td>\n",
       "    </tr>\n",
       "    <tr>\n",
       "      <th>4</th>\n",
       "      <td>10627</td>\n",
       "      <td>5</td>\n",
       "      <td>50000000</td>\n",
       "      <td>2801.762</td>\n",
       "      <td>0</td>\n",
       "      <td>-17198238</td>\n",
       "      <td>0</td>\n",
       "      <td>0</td>\n",
       "      <td>2772218</td>\n",
       "      <td>0</td>\n",
       "      <td>0</td>\n",
       "      <td>5</td>\n",
       "    </tr>\n",
       "    <tr>\n",
       "      <th>5</th>\n",
       "      <td>10627</td>\n",
       "      <td>6</td>\n",
       "      <td>50000000</td>\n",
       "      <td>1681.913</td>\n",
       "      <td>0</td>\n",
       "      <td>-18318087</td>\n",
       "      <td>0</td>\n",
       "      <td>0</td>\n",
       "      <td>1657040</td>\n",
       "      <td>1</td>\n",
       "      <td>0</td>\n",
       "      <td>6</td>\n",
       "    </tr>\n",
       "  </tbody>\n",
       "</table>\n",
       "</div>"
      ],
      "text/plain": [
       "   # Task  Job    Period   Response  DL Miss?  Lateness  Tardiness  Forced?  \\\n",
       "1   10627    2  50000000  13415.700         0  -6584300          0        0   \n",
       "2   10627    3  50000000     80.428         0 -19919572          0        0   \n",
       "3   10627    4  50000000   2946.865         0 -17053135          0        0   \n",
       "4   10627    5  50000000   2801.762         0 -17198238          0        0   \n",
       "5   10627    6  50000000   1681.913         0 -18318087          0        0   \n",
       "\n",
       "      ACET  Preemptions  Migrations  sample  \n",
       "1        0            0           0       2  \n",
       "2    64210            0           0       3  \n",
       "3  2926847            0           0       4  \n",
       "4  2772218            0           0       5  \n",
       "5  1657040            1           0       6  "
      ]
     },
     "execution_count": 64,
     "metadata": {},
     "output_type": "execute_result"
    }
   ],
   "source": [
    "stats.head()"
   ]
  },
  {
   "cell_type": "code",
   "execution_count": 65,
   "metadata": {},
   "outputs": [],
   "source": [
    "plot_style='o-'"
   ]
  },
  {
   "cell_type": "code",
   "execution_count": 74,
   "metadata": {
    "scrolled": true
   },
   "outputs": [
    {
     "data": {
      "text/plain": [
       "Text(0.5, 0, 'Samplig Period')"
      ]
     },
     "execution_count": 74,
     "metadata": {},
     "output_type": "execute_result"
    },
    {
     "data": {
      "text/plain": [
       "<Figure size 720x360 with 0 Axes>"
      ]
     },
     "metadata": {},
     "output_type": "display_data"
    },
    {
     "data": {
      "image/png": "[encoded data removed]",
      "text/plain": [
       "<Figure size 720x360 with 1 Axes>"
      ]
     },
     "metadata": {
      "needs_background": "light"
     },
     "output_type": "display_data"
    }
   ],
   "source": [
    "pp.figure(figsize=(10, 5))\n",
    "#stats['tpm'].plot(kind='line', style=plot_style)\n",
    "myplot=stats.plot('sample', ['Response'], kind='line', style=plot_style,figsize=(10, 5), grid=True, legend=False)\n",
    "pp.title('Response Time')\n",
    "pp.ylabel('milliseconds')\n",
    "pp.xlabel('Samplig Period')"
   ]
  },
  {
   "cell_type": "code",
   "execution_count": 88,
   "metadata": {},
   "outputs": [
    {
     "data": {
      "text/plain": [
       "<matplotlib.legend.Legend at 0x7f7a3fd5f310>"
      ]
     },
     "execution_count": 88,
     "metadata": {},
     "output_type": "execute_result"
    },
    {
     "data": {
      "text/plain": [
       "<Figure size 720x360 with 0 Axes>"
      ]
     },
     "metadata": {},
     "output_type": "display_data"
    },
    {
     "data": {
      "image/png": "[encoded data removed]",
      "text/plain": [
       "<Figure size 720x360 with 1 Axes>"
      ]
     },
     "metadata": {
      "needs_background": "light"
     },
     "output_type": "display_data"
    }
   ],
   "source": [
    "pp.figure(figsize=(10, 5))\n",
    "#myplot=stats['Response'].plot.density(bw_method=0.3)\n",
    "myplot=stats.plot('sample', ['Response'], kind='density',figsize=(10, 5), grid=True, legend=False, xlim=(0,6000))\n",
    "#myplot=stats['Response'].plot.hist(bins=20, grid=True, legend=False)\n",
    "myplot.set_title('Distribution of Response Times')\n",
    "myplot.set_xlabel('milliseconds')\n",
    "\n",
    "mean_label = 'mean = ' + str(stats['Response'].mean())\n",
    "median_label = 'median  = ' + str(stats['Response'].median())\n",
    "myplot.axvline(x=stats['Response'].mean(), linestyle=':', label= mean_label, color='r')\n",
    "myplot.axvline(x=stats['Response'].median(), linestyle='-.', label=median_label, color='g')\n",
    "pp.legend()"
   ]
  },
  {
   "cell_type": "code",
   "execution_count": 68,
   "metadata": {},
   "outputs": [
    {
     "data": {
      "text/plain": [
       "Text(0, 0.5, 'milliseconds')"
      ]
     },
     "execution_count": 68,
     "metadata": {},
     "output_type": "execute_result"
    },
    {
     "data": {
      "image/png": "[encoded data removed]",
      "text/plain": [
       "<Figure size 720x360 with 1 Axes>"
      ]
     },
     "metadata": {
      "needs_background": "light"
     },
     "output_type": "display_data"
    }
   ],
   "source": [
    "myplot=stats.plot('sample', ['Response'], kind='box',figsize=(10, 5), grid=True,)\n",
    "pp.title('Average Response Time')\n",
    "pp.ylabel('milliseconds')"
   ]
  },
  {
   "cell_type": "code",
   "execution_count": null,
   "metadata": {},
   "outputs": [],
   "source": []
  }
 ],
 "metadata": {
  "kernelspec": {
   "display_name": "Python 3",
   "language": "python",
   "name": "python3"
  },
  "language_info": {
   "codemirror_mode": {
    "name": "ipython",
    "version": 3
   },
   "file_extension": ".py",
   "mimetype": "text/x-python",
   "name": "python",
   "nbconvert_exporter": "python",
   "pygments_lexer": "ipython3",
   "version": "3.7.6"
  }
 },
 "nbformat": 4,
 "nbformat_minor": 2
}
